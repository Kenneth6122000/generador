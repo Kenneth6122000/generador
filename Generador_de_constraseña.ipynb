{
  "nbformat": 4,
  "nbformat_minor": 0,
  "metadata": {
    "colab": {
      "provenance": [],
      "authorship_tag": "ABX9TyOC41kH02OWMBm1DTl5Ywu4",
      "include_colab_link": true
    },
    "kernelspec": {
      "name": "python3",
      "display_name": "Python 3"
    },
    "language_info": {
      "name": "python"
    }
  },
  "cells": [
    {
      "cell_type": "markdown",
      "metadata": {
        "id": "view-in-github",
        "colab_type": "text"
      },
      "source": [
        "<a href=\"https://colab.research.google.com/github/Kenneth6122000/generador/blob/main/Generador_de_constrase%C3%B1a.ipynb\" target=\"_parent\"><img src=\"https://colab.research.google.com/assets/colab-badge.svg\" alt=\"Open In Colab\"/></a>"
      ]
    },
    {
      "cell_type": "code",
      "source": [
        "#generdor de contraseñas\n",
        "import re\n",
        "import secrets\n",
        "import string\n",
        "\n",
        "\n",
        "\n",
        "def generar_contraseña(longitud, nums, caracteres_especiales, mayusculas, minusculas):\n",
        "    # Define los posibles caracteres para la contraseña\n",
        "    letras = string.ascii_letters\n",
        "    digitos = string.digits\n",
        "    simbolos = string.punctuation\n",
        "\n",
        "    # Combina todos los caracteres\n",
        "    todos_los_caracteres = letras + digitos + simbolos\n",
        "\n",
        "    while True:\n",
        "        contraseña = ''\n",
        "        # Genera la contraseña\n",
        "        for _ in range(longitud):\n",
        "            contraseña += secrets.choice(todos_los_caracteres)\n",
        "\n",
        "        restricciones = [\n",
        "            (nums, r'\\d'),\n",
        "            (minusculas, r'[a-z]'),\n",
        "            (mayusculas, r'[A-Z]'),\n",
        "            (caracteres_especiales, fr'[{simbolos}]')\n",
        "        ]\n",
        "\n",
        "        # Verifica las restricciones\n",
        "        count = 0\n",
        "        for restriccion, patron in restricciones:\n",
        "            if restriccion <= len(re.findall(patron, contraseña)):\n",
        "                count += 1\n",
        "\n",
        "        if count == 4:\n",
        "            break\n",
        "\n",
        "    return contraseña\n",
        "\n",
        "nueva_contraseña = generar_contraseña(8, 2, 2, 2, 2)\n",
        "print(nueva_contraseña)"
      ],
      "metadata": {
        "id": "HjhbbwMZzcGh",
        "colab": {
          "base_uri": "https://localhost:8080/"
        },
        "outputId": "5e3c72fe-8278-409c-9549-a9ff67546594"
      },
      "execution_count": null,
      "outputs": [
        {
          "output_type": "stream",
          "name": "stdout",
          "text": [
            "Svq:2N+4\n"
          ]
        }
      ]
    },
    {
      "cell_type": "code",
      "source": [
        "def main():\n",
        "  pass"
      ],
      "metadata": {
        "id": "JK0faw0cAE4q"
      },
      "execution_count": null,
      "outputs": []
    },
    {
      "cell_type": "code",
      "source": [
        "def main():\n",
        " print('Bienvenidos al generador automatico de contraseña en Google Colab y Python\\n')\n",
        " longitud = input('Digite la longitud de su contraseña:  ' )\n",
        " numeros = input('Digite la cantidad de numeros que desea en su contraseña:  ')\n",
        " caracteres_especiales = input('Digite la cantidad de caracteres especiales que desea en su contraseña:  ')\n",
        " mayusculas = input('Digite la cantidad de mayusculas que desea en su contraseña:  ')\n",
        " minusculas = input('Digite la cantidaad de minusculas que desea en su contraseña: ')\n",
        "\n",
        " if longitud.isdigit() and numeros.isdigit() and caracteres_especiales.isdigit() and mayusculas.isdigit() and minusculas.isdigit():\n",
        "   long = int(longitud)\n",
        "   nums = int(numeros)\n",
        "   chars = int(caracteres_especiales)\n",
        "   mayus = int(mayusculas)\n",
        "   minus = int(minusculas)\n",
        "   password = generar_contraseña(long, nums, chars, mayus, minus)\n",
        "   print(f'La nueva contraseña generada es: [password] ' )\n",
        " else:\n",
        "  print('favor de escribir numeros enteros. ')\n",
        "  main()\n"
      ],
      "metadata": {
        "id": "zvVGdyhWfZ69"
      },
      "execution_count": null,
      "outputs": []
    },
    {
      "cell_type": "code",
      "source": [
        "main()"
      ],
      "metadata": {
        "colab": {
          "base_uri": "https://localhost:8080/"
        },
        "id": "jZvx7NIsD0HT",
        "outputId": "4cc5e1b8-fc0a-4818-ffc0-8c51c865f0a6"
      },
      "execution_count": null,
      "outputs": [
        {
          "output_type": "stream",
          "name": "stdout",
          "text": [
            "Bienvenidos al generador automatico de contraseña en Google Colab y Python\n",
            "\n",
            "Digite la longitud de su contraseña:  10\n",
            "Digite la cantidad de numeros que desea en su contraseña:  3\n",
            "Digite la cantidad de caracteres especiales que desea en su contraseña:  2\n",
            "Digite la cantidad de mayusculas que desea en su contraseña:  3\n",
            "Digite la cantidaad de minusculas que desea en su contraseña: 2\n",
            "La nueva contraseña generada es: [password] \n"
          ]
        }
      ]
    }
  ]
}